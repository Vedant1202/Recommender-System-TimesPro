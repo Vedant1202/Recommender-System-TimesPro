{
 "cells": [
  {
   "cell_type": "code",
   "execution_count": 1,
   "metadata": {},
   "outputs": [],
   "source": [
    "import pandas as pd\n",
    "import numpy as np\n",
    "import pymysql"
   ]
  },
  {
   "cell_type": "code",
   "execution_count": 2,
   "metadata": {},
   "outputs": [],
   "source": [
    "from rake_nltk import Rake"
   ]
  },
  {
   "cell_type": "code",
   "execution_count": 3,
   "metadata": {},
   "outputs": [],
   "source": [
    "from random import randint"
   ]
  },
  {
   "cell_type": "code",
   "execution_count": 4,
   "metadata": {},
   "outputs": [],
   "source": [
    "from sklearn.metrics.pairwise import cosine_similarity\n",
    "from sklearn.feature_extraction.text import CountVectorizer"
   ]
  },
  {
   "cell_type": "code",
   "execution_count": 5,
   "metadata": {},
   "outputs": [],
   "source": [
    "connection = pymysql.connect(host='localhost',\n",
    "                             user='root',\n",
    "                             password='',\n",
    "                             db='times_shiksha2')\n",
    "\n",
    "df = pd.read_sql('SELECT * FROM mdl_course', con=connection)"
   ]
  },
  {
   "cell_type": "code",
   "execution_count": 6,
   "metadata": {},
   "outputs": [
    {
     "data": {
      "text/plain": [
       "Index(['id', 'category', 'sortorder', 'fullname', 'shortname', 'idnumber',\n",
       "       'summary', 'summaryformat', 'format', 'showgrades', 'newsitems',\n",
       "       'startdate', 'enddate', 'marker', 'maxbytes', 'legacyfiles',\n",
       "       'showreports', 'visible', 'visibleold', 'groupmode', 'groupmodeforce',\n",
       "       'defaultgroupingid', 'lang', 'calendartype', 'theme', 'timecreated',\n",
       "       'timemodified', 'requested', 'enablecompletion', 'completionnotify',\n",
       "       'cacherev'],\n",
       "      dtype='object')"
      ]
     },
     "execution_count": 6,
     "metadata": {},
     "output_type": "execute_result"
    }
   ],
   "source": [
    "df.columns"
   ]
  },
  {
   "cell_type": "code",
   "execution_count": 7,
   "metadata": {
    "scrolled": true
   },
   "outputs": [],
   "source": [
    "df = df.copy()[['id', 'fullname', 'summary']]"
   ]
  },
  {
   "cell_type": "code",
   "execution_count": 8,
   "metadata": {},
   "outputs": [],
   "source": [
    "summarylist = []\n",
    "for line in df['summary']:\n",
    "    line = line.replace('\\n','').replace('\\r','').replace('\\t','').lower()\n",
    "    summarylist.append(line)\n",
    "    \n",
    "df['summary'] = summarylist"
   ]
  },
  {
   "cell_type": "code",
   "execution_count": 9,
   "metadata": {},
   "outputs": [],
   "source": [
    "df['fullname'] = df['fullname'].str.lower()"
   ]
  },
  {
   "cell_type": "code",
   "execution_count": 10,
   "metadata": {},
   "outputs": [
    {
     "data": {
      "text/html": [
       "<div>\n",
       "<style scoped>\n",
       "    .dataframe tbody tr th:only-of-type {\n",
       "        vertical-align: middle;\n",
       "    }\n",
       "\n",
       "    .dataframe tbody tr th {\n",
       "        vertical-align: top;\n",
       "    }\n",
       "\n",
       "    .dataframe thead th {\n",
       "        text-align: right;\n",
       "    }\n",
       "</style>\n",
       "<table border=\"1\" class=\"dataframe\">\n",
       "  <thead>\n",
       "    <tr style=\"text-align: right;\">\n",
       "      <th></th>\n",
       "      <th>id</th>\n",
       "      <th>fullname</th>\n",
       "      <th>summary</th>\n",
       "    </tr>\n",
       "  </thead>\n",
       "  <tbody>\n",
       "    <tr>\n",
       "      <th>0</th>\n",
       "      <td>1</td>\n",
       "      <td>timesshiksha</td>\n",
       "      <td>a great place to start</td>\n",
       "    </tr>\n",
       "    <tr>\n",
       "      <th>1</th>\n",
       "      <td>6</td>\n",
       "      <td>microsoft word</td>\n",
       "      <td>microsoft word is agraphicalwordprocessing pro...</td>\n",
       "    </tr>\n",
       "    <tr>\n",
       "      <th>2</th>\n",
       "      <td>7</td>\n",
       "      <td>microsoft excel</td>\n",
       "      <td>microsoftexcelis aspreadsheet programusedto st...</td>\n",
       "    </tr>\n",
       "    <tr>\n",
       "      <th>3</th>\n",
       "      <td>8</td>\n",
       "      <td>microsoft powerpoint</td>\n",
       "      <td>power pointis apresentation program softwarepa...</td>\n",
       "    </tr>\n",
       "    <tr>\n",
       "      <th>4</th>\n",
       "      <td>12</td>\n",
       "      <td>powerful speaking</td>\n",
       "      <td>powerful speakingis an invaluable set of skill...</td>\n",
       "    </tr>\n",
       "  </tbody>\n",
       "</table>\n",
       "</div>"
      ],
      "text/plain": [
       "   id              fullname                                            summary\n",
       "0   1          timesshiksha                             a great place to start\n",
       "1   6        microsoft word  microsoft word is agraphicalwordprocessing pro...\n",
       "2   7       microsoft excel  microsoftexcelis aspreadsheet programusedto st...\n",
       "3   8  microsoft powerpoint  power pointis apresentation program softwarepa...\n",
       "4  12     powerful speaking  powerful speakingis an invaluable set of skill..."
      ]
     },
     "execution_count": 10,
     "metadata": {},
     "output_type": "execute_result"
    }
   ],
   "source": [
    "df.head()"
   ]
  },
  {
   "cell_type": "code",
   "execution_count": 11,
   "metadata": {},
   "outputs": [],
   "source": [
    "def concatenate_list(list):\n",
    "    result= ''\n",
    "    for element in list:\n",
    "        result += ' ' + str(element)\n",
    "    return result"
   ]
  },
  {
   "cell_type": "code",
   "execution_count": 12,
   "metadata": {
    "scrolled": true
   },
   "outputs": [
    {
     "name": "stderr",
     "output_type": "stream",
     "text": [
      "C:\\Users\\mumtl5\\AppData\\Local\\Continuum\\anaconda3\\envs\\recommender\\lib\\site-packages\\ipykernel_launcher.py:23: SettingWithCopyWarning: \n",
      "A value is trying to be set on a copy of a slice from a DataFrame\n",
      "\n",
      "See the caveats in the documentation: http://pandas.pydata.org/pandas-docs/stable/user_guide/indexing.html#returning-a-view-versus-a-copy\n"
     ]
    }
   ],
   "source": [
    "# initializing the new column\n",
    "df['Key_words'] = \"\"\n",
    "\n",
    "for index, row in df.iterrows():\n",
    "#     print(row)\n",
    "#     print(index)\n",
    "    plot = str(row['summary'])\n",
    "#     print(plot)\n",
    "    \n",
    "    # instantiating Rake, by default it uses english stopwords from NLTK\n",
    "    # and discards all puntuation characters as well\n",
    "    r = Rake()\n",
    "\n",
    "    # extracting the words by passing the text\n",
    "    r.extract_keywords_from_text(plot)\n",
    "\n",
    "    # getting the dictionary whith key words as keys and their scores as values\n",
    "    key_words_dict_scores = r.get_word_degrees()\n",
    "    \n",
    "    # assigning the key words to the new column for the corresponding movie\n",
    "    row['Key_words'] = concatenate_list(list(key_words_dict_scores.keys()))\n",
    "#     print(row['Key_words'])\n",
    "    df['Key_words'][index] = row['Key_words'].strip()\n",
    "    \n",
    "# dropping the Plot column\n",
    "df.drop(columns = ['summary'], inplace = True)"
   ]
  },
  {
   "cell_type": "code",
   "execution_count": 13,
   "metadata": {
    "scrolled": true
   },
   "outputs": [
    {
     "data": {
      "text/plain": [
       "'start great place'"
      ]
     },
     "execution_count": 13,
     "metadata": {},
     "output_type": "execute_result"
    }
   ],
   "source": [
    "df['Key_words'][0]"
   ]
  },
  {
   "cell_type": "code",
   "execution_count": 14,
   "metadata": {},
   "outputs": [],
   "source": [
    "# df.drop(columns = ['Timing'], inplace = True)"
   ]
  },
  {
   "cell_type": "code",
   "execution_count": 15,
   "metadata": {
    "scrolled": true
   },
   "outputs": [
    {
     "data": {
      "text/html": [
       "<div>\n",
       "<style scoped>\n",
       "    .dataframe tbody tr th:only-of-type {\n",
       "        vertical-align: middle;\n",
       "    }\n",
       "\n",
       "    .dataframe tbody tr th {\n",
       "        vertical-align: top;\n",
       "    }\n",
       "\n",
       "    .dataframe thead th {\n",
       "        text-align: right;\n",
       "    }\n",
       "</style>\n",
       "<table border=\"1\" class=\"dataframe\">\n",
       "  <thead>\n",
       "    <tr style=\"text-align: right;\">\n",
       "      <th></th>\n",
       "      <th>id</th>\n",
       "      <th>fullname</th>\n",
       "      <th>Key_words</th>\n",
       "    </tr>\n",
       "  </thead>\n",
       "  <tbody>\n",
       "    <tr>\n",
       "      <th>0</th>\n",
       "      <td>1</td>\n",
       "      <td>timesshiksha</td>\n",
       "      <td>start great place</td>\n",
       "    </tr>\n",
       "    <tr>\n",
       "      <th>1</th>\n",
       "      <td>6</td>\n",
       "      <td>microsoft word</td>\n",
       "      <td>agraphicalwordprocessing program microsoft wor...</td>\n",
       "    </tr>\n",
       "    <tr>\n",
       "      <th>2</th>\n",
       "      <td>7</td>\n",
       "      <td>microsoft excel</td>\n",
       "      <td>microsoftexcelis aspreadsheet programusedto st...</td>\n",
       "    </tr>\n",
       "    <tr>\n",
       "      <th>3</th>\n",
       "      <td>8</td>\n",
       "      <td>microsoft powerpoint</td>\n",
       "      <td>inserted andformatted allows text display meth...</td>\n",
       "    </tr>\n",
       "    <tr>\n",
       "      <th>4</th>\n",
       "      <td>12</td>\n",
       "      <td>powerful speaking</td>\n",
       "      <td>deliver should1focus main message2keep tactful...</td>\n",
       "    </tr>\n",
       "  </tbody>\n",
       "</table>\n",
       "</div>"
      ],
      "text/plain": [
       "   id              fullname                                          Key_words\n",
       "0   1          timesshiksha                                  start great place\n",
       "1   6        microsoft word  agraphicalwordprocessing program microsoft wor...\n",
       "2   7       microsoft excel  microsoftexcelis aspreadsheet programusedto st...\n",
       "3   8  microsoft powerpoint  inserted andformatted allows text display meth...\n",
       "4  12     powerful speaking  deliver should1focus main message2keep tactful..."
      ]
     },
     "execution_count": 15,
     "metadata": {},
     "output_type": "execute_result"
    }
   ],
   "source": [
    "df.head()"
   ]
  },
  {
   "cell_type": "code",
   "execution_count": 16,
   "metadata": {},
   "outputs": [],
   "source": [
    "# df['desc'] = df[['Dept/Domain', 'Key_words']].apply(lambda x: ''.join(x.map(str)).lower(), axis=1)"
   ]
  },
  {
   "cell_type": "code",
   "execution_count": 17,
   "metadata": {},
   "outputs": [
    {
     "data": {
      "text/html": [
       "<div>\n",
       "<style scoped>\n",
       "    .dataframe tbody tr th:only-of-type {\n",
       "        vertical-align: middle;\n",
       "    }\n",
       "\n",
       "    .dataframe tbody tr th {\n",
       "        vertical-align: top;\n",
       "    }\n",
       "\n",
       "    .dataframe thead th {\n",
       "        text-align: right;\n",
       "    }\n",
       "</style>\n",
       "<table border=\"1\" class=\"dataframe\">\n",
       "  <thead>\n",
       "    <tr style=\"text-align: right;\">\n",
       "      <th></th>\n",
       "      <th>id</th>\n",
       "      <th>fullname</th>\n",
       "      <th>Key_words</th>\n",
       "    </tr>\n",
       "  </thead>\n",
       "  <tbody>\n",
       "    <tr>\n",
       "      <th>0</th>\n",
       "      <td>1</td>\n",
       "      <td>timesshiksha</td>\n",
       "      <td>start great place</td>\n",
       "    </tr>\n",
       "    <tr>\n",
       "      <th>1</th>\n",
       "      <td>6</td>\n",
       "      <td>microsoft word</td>\n",
       "      <td>agraphicalwordprocessing program microsoft wor...</td>\n",
       "    </tr>\n",
       "    <tr>\n",
       "      <th>2</th>\n",
       "      <td>7</td>\n",
       "      <td>microsoft excel</td>\n",
       "      <td>microsoftexcelis aspreadsheet programusedto st...</td>\n",
       "    </tr>\n",
       "    <tr>\n",
       "      <th>3</th>\n",
       "      <td>8</td>\n",
       "      <td>microsoft powerpoint</td>\n",
       "      <td>inserted andformatted allows text display meth...</td>\n",
       "    </tr>\n",
       "    <tr>\n",
       "      <th>4</th>\n",
       "      <td>12</td>\n",
       "      <td>powerful speaking</td>\n",
       "      <td>deliver should1focus main message2keep tactful...</td>\n",
       "    </tr>\n",
       "  </tbody>\n",
       "</table>\n",
       "</div>"
      ],
      "text/plain": [
       "   id              fullname                                          Key_words\n",
       "0   1          timesshiksha                                  start great place\n",
       "1   6        microsoft word  agraphicalwordprocessing program microsoft wor...\n",
       "2   7       microsoft excel  microsoftexcelis aspreadsheet programusedto st...\n",
       "3   8  microsoft powerpoint  inserted andformatted allows text display meth...\n",
       "4  12     powerful speaking  deliver should1focus main message2keep tactful..."
      ]
     },
     "execution_count": 17,
     "metadata": {},
     "output_type": "execute_result"
    }
   ],
   "source": [
    "df.head()"
   ]
  },
  {
   "cell_type": "code",
   "execution_count": 18,
   "metadata": {},
   "outputs": [],
   "source": [
    "# df['desc'][1]"
   ]
  },
  {
   "cell_type": "code",
   "execution_count": 19,
   "metadata": {},
   "outputs": [],
   "source": [
    "# df['Program Name'] = df['Program Name'].apply(lambda x: str(x).lower())"
   ]
  },
  {
   "cell_type": "code",
   "execution_count": 20,
   "metadata": {},
   "outputs": [],
   "source": [
    "# df3 = df.copy().drop(['Dept/Domain', 'Key_words'], axis=1)"
   ]
  },
  {
   "cell_type": "code",
   "execution_count": 21,
   "metadata": {},
   "outputs": [],
   "source": [
    "# df2 = df.copy()"
   ]
  },
  {
   "cell_type": "code",
   "execution_count": 22,
   "metadata": {},
   "outputs": [],
   "source": [
    "df.set_index(['fullname'], inplace=True)"
   ]
  },
  {
   "cell_type": "code",
   "execution_count": 23,
   "metadata": {},
   "outputs": [
    {
     "data": {
      "text/html": [
       "<div>\n",
       "<style scoped>\n",
       "    .dataframe tbody tr th:only-of-type {\n",
       "        vertical-align: middle;\n",
       "    }\n",
       "\n",
       "    .dataframe tbody tr th {\n",
       "        vertical-align: top;\n",
       "    }\n",
       "\n",
       "    .dataframe thead th {\n",
       "        text-align: right;\n",
       "    }\n",
       "</style>\n",
       "<table border=\"1\" class=\"dataframe\">\n",
       "  <thead>\n",
       "    <tr style=\"text-align: right;\">\n",
       "      <th></th>\n",
       "      <th>id</th>\n",
       "      <th>Key_words</th>\n",
       "    </tr>\n",
       "    <tr>\n",
       "      <th>fullname</th>\n",
       "      <th></th>\n",
       "      <th></th>\n",
       "    </tr>\n",
       "  </thead>\n",
       "  <tbody>\n",
       "    <tr>\n",
       "      <th>timesshiksha</th>\n",
       "      <td>1</td>\n",
       "      <td>start great place</td>\n",
       "    </tr>\n",
       "    <tr>\n",
       "      <th>microsoft word</th>\n",
       "      <td>6</td>\n",
       "      <td>agraphicalwordprocessing program microsoft wor...</td>\n",
       "    </tr>\n",
       "    <tr>\n",
       "      <th>microsoft excel</th>\n",
       "      <td>7</td>\n",
       "      <td>microsoftexcelis aspreadsheet programusedto st...</td>\n",
       "    </tr>\n",
       "    <tr>\n",
       "      <th>microsoft powerpoint</th>\n",
       "      <td>8</td>\n",
       "      <td>inserted andformatted allows text display meth...</td>\n",
       "    </tr>\n",
       "    <tr>\n",
       "      <th>powerful speaking</th>\n",
       "      <td>12</td>\n",
       "      <td>deliver should1focus main message2keep tactful...</td>\n",
       "    </tr>\n",
       "  </tbody>\n",
       "</table>\n",
       "</div>"
      ],
      "text/plain": [
       "                      id                                          Key_words\n",
       "fullname                                                                   \n",
       "timesshiksha           1                                  start great place\n",
       "microsoft word         6  agraphicalwordprocessing program microsoft wor...\n",
       "microsoft excel        7  microsoftexcelis aspreadsheet programusedto st...\n",
       "microsoft powerpoint   8  inserted andformatted allows text display meth...\n",
       "powerful speaking     12  deliver should1focus main message2keep tactful..."
      ]
     },
     "execution_count": 23,
     "metadata": {},
     "output_type": "execute_result"
    }
   ],
   "source": [
    "df.head()"
   ]
  },
  {
   "cell_type": "code",
   "execution_count": 24,
   "metadata": {},
   "outputs": [],
   "source": [
    "# instantiating and generating the count matrix\n",
    "count = CountVectorizer()\n",
    "count_matrix = count.fit_transform(df['Key_words'])\n",
    "\n",
    "# generating the cosine similarity matrix\n",
    "cosine_sim = cosine_similarity(count_matrix, count_matrix)"
   ]
  },
  {
   "cell_type": "code",
   "execution_count": 25,
   "metadata": {},
   "outputs": [],
   "source": [
    "# creating a Series for the movie titles so they are associated to an ordered numerical\n",
    "# list I will use in the function to match the indexes\n",
    "indices = pd.Series(df.index)\n",
    "# print(indices)\n",
    "descs = pd.Series(df['Key_words'])\n",
    "\n",
    "#  defining the function that takes in movie title \n",
    "# as input and returns the top 10 recommended movies\n",
    "def get_recommendation(title, cosine_sim = cosine_sim):\n",
    "    \n",
    "    # initializing the empty list of recommendations\n",
    "    recommendations = []\n",
    "    target = False\n",
    "    \n",
    "    # gettin the index\n",
    "    for i in indices:\n",
    "        if title in i:\n",
    "            target = i\n",
    "    \n",
    "    if target:\n",
    "        idx = indices[indices == target].index[0]\n",
    "        recommendations.append(dict({'id': df['id'][target], 'courseName': target.capitalize()}))\n",
    "    else:\n",
    "        idx = randint(0, len(indices))\n",
    "        \n",
    "    # creating a Series with the similarity scores in descending order\n",
    "    score_series = pd.Series(cosine_sim[idx]).sort_values(ascending = False)\n",
    "\n",
    "    # getting the indexes of the 10 most similar movies\n",
    "    top_10_indexes = list(score_series.iloc[1:11].index)\n",
    "    \n",
    "    # populating the list with the titles of the best 10 matching movies\n",
    "    \n",
    "    for i in top_10_indexes:\n",
    "        recommendations.append(dict({'id': df['id'][list(df.index)[i]], 'courseName': list(df.index)[i].capitalize()}))\n",
    "        \n",
    "    return recommendations"
   ]
  },
  {
   "cell_type": "code",
   "execution_count": 26,
   "metadata": {},
   "outputs": [],
   "source": [
    "def main():\n",
    "    query = input()\n",
    "    print(get_recommendation(query))"
   ]
  },
  {
   "cell_type": "code",
   "execution_count": 27,
   "metadata": {
    "scrolled": true
   },
   "outputs": [
    {
     "name": "stdout",
     "output_type": "stream",
     "text": [
      "excel\n",
      "[{'id': 42, 'courseName': 'Excel 2016 pivot tables in depth'}, {'id': 7, 'courseName': 'Microsoft excel'}, {'id': 8, 'courseName': 'Microsoft powerpoint'}, {'id': 30, 'courseName': 'Marketing with facebook and twitter'}, {'id': 26, 'courseName': 'Microsoft dynamics crm customization config'}, {'id': 41, 'courseName': 'Complete beginners introduction to sql'}, {'id': 19, 'courseName': 'Adwords essential training'}, {'id': 32, 'courseName': 'Business-intellegence features in depth'}, {'id': 15, 'courseName': 'Cbt nuggets - mpls fundamentals'}, {'id': 16, 'courseName': 'Cbt nuggets microsoft sharepoint'}, {'id': 18, 'courseName': 'Creating a business plan'}]\n"
     ]
    }
   ],
   "source": [
    "main()"
   ]
  },
  {
   "cell_type": "code",
   "execution_count": 28,
   "metadata": {},
   "outputs": [
    {
     "data": {
      "text/plain": [
       "6"
      ]
     },
     "execution_count": 28,
     "metadata": {},
     "output_type": "execute_result"
    }
   ],
   "source": [
    "df['id']['microsoft word']"
   ]
  },
  {
   "cell_type": "code",
   "execution_count": 29,
   "metadata": {},
   "outputs": [
    {
     "data": {
      "text/plain": [
       "'cbt nuggets - mpls fundamentals'"
      ]
     },
     "execution_count": 29,
     "metadata": {},
     "output_type": "execute_result"
    }
   ],
   "source": [
    "df.index[6]"
   ]
  },
  {
   "cell_type": "code",
   "execution_count": 33,
   "metadata": {},
   "outputs": [
    {
     "data": {
      "text/plain": [
       "'http://timesshiksha.com/enrol/index.php?id=22'"
      ]
     },
     "execution_count": 33,
     "metadata": {},
     "output_type": "execute_result"
    }
   ],
   "source": [
    "str('http://timesshiksha.com/enrol/index.php?id='+ str(22))"
   ]
  },
  {
   "cell_type": "code",
   "execution_count": null,
   "metadata": {},
   "outputs": [],
   "source": []
  }
 ],
 "metadata": {
  "kernelspec": {
   "display_name": "Python 3",
   "language": "python",
   "name": "python3"
  },
  "language_info": {
   "codemirror_mode": {
    "name": "ipython",
    "version": 3
   },
   "file_extension": ".py",
   "mimetype": "text/x-python",
   "name": "python",
   "nbconvert_exporter": "python",
   "pygments_lexer": "ipython3",
   "version": "3.6.9"
  }
 },
 "nbformat": 4,
 "nbformat_minor": 2
}
